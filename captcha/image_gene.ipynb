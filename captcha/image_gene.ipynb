{
 "cells": [
  {
   "attachments": {},
   "cell_type": "markdown",
   "metadata": {},
   "source": [
    "\n",
    "TO-KNOW :\n",
    "    -ce sera x (aleatoire) lettres choisies (aleatoirement) \n",
    "    -dexuieme fonctionnalité sera que on peut choisir son captcha \n",
    "\n",
    "TO-DO :\n",
    "    -choisir la police \n",
    "    voir : https://www.dafont.com/ordionally.font,https://www.dafont.com/wasiat.font,https://www.dafont.com/bongkerspop.font, https://www.dafont.com/love-in-the-sky.font, https://www.dafont.com/nighty-tales-gt.font, https://www.dafont.com/witchi.font\n",
    "    chercher une qui fais vrmt \"fait main\" \n",
    "    \n",
    "    \n",
    "    -voir si je veux les miniscules et les majuscules (ou un des deux, ou un mix des deux->en fct du dataset)"
   ]
  },
  {
   "cell_type": "code",
   "execution_count": 12,
   "metadata": {},
   "outputs": [],
   "source": [
    "from PIL import Image,ImageDraw,ImageFont\n",
    "from random import choice, randint\n",
    "from math import sin, ceil"
   ]
  },
  {
   "cell_type": "code",
   "execution_count": 13,
   "metadata": {},
   "outputs": [],
   "source": [
    "def create_sequence_random():\n",
    "    lettres = [\"a\",\"b\",\"c\",\"d\",\"e\",\"f\",\"g\",\"h\",\"i\",\"j\",\"k\",\"l\",\"m\",\"n\",\"o\",\"p\",\"q\",\"r\",\"s\",\"t\",\"u\",\"v\",\"w\",\"x\",\"y\",\"z\",\"0\",\"1\",\"2\",\"3\",\"4\",\"5\",\"6\",\"7\",\"8\",\"9\"]\n",
    "    nb_lettres = randint(8,9)\n",
    "    sequence = \"\"\n",
    "    for x in range(nb_lettres):\n",
    "        lettre = choice(lettres)  \n",
    "        lettre = choice([lettre,lettre.upper()])   #choisi entre la lettre et sa majuscule (les nombres restent comme ils sont)   \n",
    "        sequence+=lettre\n",
    "    return sequence"
   ]
  },
  {
   "cell_type": "code",
   "execution_count": 14,
   "metadata": {},
   "outputs": [],
   "source": [
    "def genere_image(mot, size_x, size_y, posX,posY):\n",
    "    img = Image.new(mode=\"1\",size=(size_x,size_y),color=1)#voir apres pour size\n",
    "    draw = ImageDraw.Draw(img)\n",
    "    fnt = ImageFont.truetype(r\"C:\\Users\\dnybs\\trophee NSI\\nouvelle direction\\captcha\\imageGeneration\\fonts\\Bongkerspop.ttf\",size = 250)#voir apres pour size (en fct des données)\n",
    "    draw.text((posX,posY),text = mot,fill = 0, font= fnt, spacing = 5)#pour que la variation sois pas tout le temps la meme\n",
    "    return img"
   ]
  },
  {
   "attachments": {},
   "cell_type": "markdown",
   "metadata": {},
   "source": [
    "    un pixel a des coordonées (x,y) et on doit les passer dans une fonction qui va nous donner des coordonnes(u,v), avec la meme couleur\n",
    "    on peut faire un truc du genre fonction sinus pour la coordonné x\n",
    "    ont peut faire un truc du genre fct sinus pour la coordonné y \n",
    "    le pixel ou ils étaient est remplace par un pixel blanc\n",
    "\n",
    "    ca change souvent car les pixels ont de grandes valeur dcp sur l'image 10 pixels c pas grand chose dcp ca passe vite en negatif\n",
    "    dcp leffet est pas etalé mais concentre a certains endroits et absent dans dautre\n",
    "    il faut peut etre normaliser les pixels entre 0 et 30 par exemple \n",
    "\n",
    "    il reste des choses a regler : \n",
    "    -normalisation (mettre toutes les valeurs dans le meme ordre de grandeur, pour que sin() varie doucement)\n",
    "    y augmente linéairement \n",
    "    x augmente linéairement, deviens 0, puis re augmente linéairement -> en boucle"
   ]
  },
  {
   "cell_type": "code",
   "execution_count": 15,
   "metadata": {},
   "outputs": [],
   "source": [
    "#ce filter a les amelioration du 2 + on distord sur les deux axes mais ducoup il faut faire ca l'un apres l'autre !\n",
    "def filter(image,size_x,size_y):#ca sera juste distortion imo\n",
    "#on veut distordre d'abord sur les x puis les y(on sen fout de lordre mais faut faire l'un apres lautre)\n",
    "    for i in range(2):\n",
    "        pixels_a_modifier = [] \n",
    "        for y in range(size_y):\n",
    "            for x in range(size_x):\n",
    "                if image.getpixel((x,y)) == 0:\n",
    "                    pixels_a_modifier.append([x,y])\n",
    "        for pixel_coor in pixels_a_modifier: #remplace par un pixel blanc mtn, pour ne pas supprimer ceux qu'on va mettre et qui sont la\n",
    "            image.putpixel((pixel_coor[0],pixel_coor[1]),1)\n",
    "        if i ==0: #distordre sur les y\n",
    "            for p in pixels_a_modifier:\n",
    "                x,y = p[0],p[1] \n",
    "                u = x \n",
    "                v = y-sin(x/100)*35 #corespond a une fct : v = f(x) = y+sin(x) SIN(X) PEUT ETRE NEGATIF\n",
    "                #on peut tjrs changer le coeff de sin(x), le coeef de x\n",
    "                u,v = ceil(u),ceil(v)\n",
    "                if u <= size_x and v <= size_y:\n",
    "                    image.putpixel((u,v),0)\n",
    "\n",
    "        if i ==1: #distordre sur les x\n",
    "            for p in pixels_a_modifier:\n",
    "                x,y = p[0],p[1] \n",
    "                u = x +sin(y/50)*20\n",
    "                v = y #corespond a une fct : v = f(x) = y+sin(x) SIN(X) PEUT ETRE NEGATIF\n",
    "                #on peut tjrs changer le coeff de sin(y), le coeef de y\n",
    "                u,v = ceil(u),ceil(v)\n",
    "                if u <= size_x and v <= size_y:\n",
    "                    image.putpixel((u,v),0)"
   ]
  },
  {
   "cell_type": "code",
   "execution_count": 16,
   "metadata": {},
   "outputs": [],
   "source": [
    "def resizeImage(img,bord):\n",
    "    largeur, hauteur = img.size\n",
    "    #il faut couper sur les 4 cotes (en hauteur en haut et en bas, en largeur a droite et a gauche)\n",
    "    #pour obtenir un rectangle : (largeur gauche,hauteur haut,largeur droite,hauteur bas)\n",
    "    #en hauteur :\n",
    "    #en bas : on sait a peu pres \n",
    "    for i in reversed(range(hauteur)):#on part du bas\n",
    "        for j in range(largeur):#de gauche a droite\n",
    "            if img.getpixel((j,i)) == 0:\n",
    "                hauteurBas = i +bord\n",
    "                break\n",
    "        else:\n",
    "            continue\n",
    "        break                    \n",
    "    #en haut : on sait a peu pres\n",
    "    for i in range(hauteur):#on part du haut\n",
    "        for j in range(largeur):#de gauche a droite\n",
    "            if img.getpixel((j,i)) == 0:\n",
    "                hauteurHaut = i-bord\n",
    "                break\n",
    "        else:\n",
    "            continue\n",
    "        break                    \n",
    "    #en largeur:\n",
    "\n",
    "    #a gauche : on sait a peu pres\n",
    "    for j in range(largeur):#on part de la gauche\n",
    "        for i in range(hauteur):#de haut en bas\n",
    "            if img.getpixel((j,i)) == 0:\n",
    "                largeurGauche = j-bord\n",
    "                break\n",
    "        else:\n",
    "            continue\n",
    "        break\n",
    "\n",
    "    #a droite :\n",
    "\n",
    "    for j in reversed(range(largeur)):# on part de la droite\n",
    "        for i in range(hauteur):#de haut en bas\n",
    "            if img.getpixel((j,i)) == 0:\n",
    "                largeurDroite = j+bord\n",
    "                break\n",
    "        else:\n",
    "            continue\n",
    "        break\n",
    "    img = img.resize(size = (largeurDroite,hauteurBas),box =(largeurGauche,hauteurHaut,largeurDroite,hauteurBas))\n",
    "    return img"
   ]
  },
  {
   "attachments": {},
   "cell_type": "markdown",
   "metadata": {},
   "source": [
    "on peut optimiser : que on cherche les coins que a partir, de l'endroit (a peu pres) ou yaura le texte ET pour chercher les pixels\n",
    "\n"
   ]
  },
  {
   "cell_type": "code",
   "execution_count": 17,
   "metadata": {},
   "outputs": [],
   "source": [
    "#on met le noise par dessus l'autre sinon le resize va etre bzr\n",
    "#noise(img,img.size[0],img.size[1])\n",
    "def noise(image,size_x,size_y,nbPoint):\n",
    "    randomPose = [[(randint(-250,size_x), randint(-250,size_y)) for i in range(nbPoint)] for j in range(0,size_y,80)] #un tableau de toutes les positions tous les 80 pixels ver le bas et aleatoire vers sur x et y\n",
    "    draw = ImageDraw.Draw(image)\n",
    "    fnt = ImageFont.truetype(r\"C:\\Users\\dnybs\\trophee NSI\\nouvelle direction\\captcha\\imageGeneration\\fonts\\Bongkerspop.ttf\",size = 250)\n",
    "\n",
    "    for j in randomPose:\n",
    "        for coor in j:\n",
    "            draw.text(coor,text = '.',fill = 0, font= fnt, spacing = 5)  \n",
    "\n",
    "    return image\n"
   ]
  },
  {
   "cell_type": "code",
   "execution_count": 30,
   "metadata": {},
   "outputs": [
    {
     "name": "stdout",
     "output_type": "stream",
     "text": [
      "FUP6N8Bi5\n"
     ]
    }
   ],
   "source": [
    "\n",
    "def genere_image_random():\n",
    "    size_x = 2100 #on pourra passer ca en parametres\n",
    "    size_y = 700\n",
    "    posX =randint(50,200) #position du pixel le plus proche de la gauche\n",
    "    posY =randint(60,300) #jsp pas trop\n",
    "    for i in range(1):\n",
    "        mot = create_sequence_random()\n",
    "        print(mot)\n",
    "        img = genere_image(mot, size_x,size_y,posX,posY)\n",
    "        img = resizeImage(img,60)\n",
    "        size_x,size_y = img.size[0],img.size[1]\n",
    "        filter(img,size_x,size_y)  \n",
    "        img = noise(img,size_x,size_y,5) \n",
    "        img.show()\n",
    "        #img.save('C:\\\\Users\\\\dnybs\\\\trophee NSI\\\\preprocessImage\\\\image\\\\'+mot+'.png','PNG')\n",
    "genere_image_random()"
   ]
  },
  {
   "cell_type": "code",
   "execution_count": 2,
   "metadata": {},
   "outputs": [
    {
     "name": "stdout",
     "output_type": "stream",
     "text": [
      "0\n"
     ]
    }
   ],
   "source": [
    "choses = [\"Truc\",\"kekc\"]\n",
    "print(choses.index(\"Truc\"))"
   ]
  }
 ],
 "metadata": {
  "kernelspec": {
   "display_name": "Python 3",
   "language": "python",
   "name": "python3"
  },
  "language_info": {
   "codemirror_mode": {
    "name": "ipython",
    "version": 3
   },
   "file_extension": ".py",
   "mimetype": "text/x-python",
   "name": "python",
   "nbconvert_exporter": "python",
   "pygments_lexer": "ipython3",
   "version": "3.11.1"
  },
  "orig_nbformat": 4,
  "vscode": {
   "interpreter": {
    "hash": "20e9977a0c7377049c5e07c0949a554686e78457403b82392f12386695135c32"
   }
  }
 },
 "nbformat": 4,
 "nbformat_minor": 2
}
