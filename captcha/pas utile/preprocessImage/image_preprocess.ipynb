{
 "cells": [
  {
   "attachments": {},
   "cell_type": "markdown",
   "metadata": {},
   "source": [
    "Pour entrainer le modele,\n",
    "    \n",
    "-je fais des données avec les lettres d'une font/des differentes font(police) : je fais les variations (sin) de la lettre (a differents endroits d'une page, pour que ca fasse pas la meme variation) et avec differents coefficients\n",
    "\n",
    "-ou je le fais avec une bibliotheque (https://pypi.org/project/captcha/)\n",
    "\n",
    "les deux sont realistes : soit on voit a peu pres les transformations faites et on a trouve un peu pres un moyen de copier, soit on sait pas mais on voit que la bibliotheque se rapproche de ce que le captcha fait"
   ]
  },
  {
   "attachments": {},
   "cell_type": "markdown",
   "metadata": {},
   "source": [
    "pour option 1:\n",
    "\n",
    "-imo, meilleur reconnaisance final (car meme font)\n",
    "\n",
    "-plus logique dans le projet (on cherche a resoudre notre captcha)\n",
    "\n",
    "pour option 2:\n",
    "\n",
    "-imo, meilleur resultat sur d'autres captchas"
   ]
  },
  {
   "attachments": {},
   "cell_type": "markdown",
   "metadata": {},
   "source": [
    "Pour decoupé dans l'image les differentes lettres,\n",
    "\n",
    "-coupé seulement en rectangle"
   ]
  },
  {
   "cell_type": "code",
   "execution_count": 1,
   "metadata": {},
   "outputs": [],
   "source": [
    "from PIL import Image"
   ]
  },
  {
   "cell_type": "code",
   "execution_count": 3,
   "metadata": {},
   "outputs": [],
   "source": [
    "with Image.open(r'C:\\Users\\dnybs\\trophee NSI\\preprocessImage\\image\\Ws9Em2UnG.png') as img:\n",
    "    img.show()"
   ]
  }
 ],
 "metadata": {
  "kernelspec": {
   "display_name": "Python 3",
   "language": "python",
   "name": "python3"
  },
  "language_info": {
   "codemirror_mode": {
    "name": "ipython",
    "version": 3
   },
   "file_extension": ".py",
   "mimetype": "text/x-python",
   "name": "python",
   "nbconvert_exporter": "python",
   "pygments_lexer": "ipython3",
   "version": "3.11.1"
  },
  "orig_nbformat": 4,
  "vscode": {
   "interpreter": {
    "hash": "20e9977a0c7377049c5e07c0949a554686e78457403b82392f12386695135c32"
   }
  }
 },
 "nbformat": 4,
 "nbformat_minor": 2
}
